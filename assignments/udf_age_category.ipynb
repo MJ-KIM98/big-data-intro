{
 "cells": [
  {
   "cell_type": "markdown",
   "id": "4b0e1d1c-0138-4cb0-beed-c513d9e340d5",
   "metadata": {},
   "source": [
    "[과제: udf 등록 및 SQL 처리]\n",
    "UDF 함수명: age_category(age)\n",
    "- age가 35살 미만: 'young'\n",
    "- age가 35살-59살: 'adult'\n",
    "- age가 60살 이상: 'senior'\n",
    "\n",
    "데이터프레임\n",
    "- 변수: name, age (예: '안현', 39)\n",
    "- 데이터 5개~10개 생성 \n",
    "\n",
    "SQL 출력 결과: name, age_category(age)\n",
    "\n",
    "- 제출 방법: GitHub에 업로드\n",
    "- 제출 기한: 5.24(수)"
   ]
  },
  {
   "cell_type": "code",
   "execution_count": 23,
   "id": "8fd27221-b37b-418f-abaa-e4df101455ef",
   "metadata": {},
   "outputs": [],
   "source": [
    "from pyspark.sql import SparkSession\n",
    "\n",
    "spark = SparkSession.builder.master('local').appName('udf_age_category').getOrCreate()"
   ]
  },
  {
   "cell_type": "code",
   "execution_count": 24,
   "id": "c69d10bb-c908-4fd6-b8a1-61415a750810",
   "metadata": {},
   "outputs": [],
   "source": [
    "name = [\n",
    "    ('류승룡', 54),\n",
    "    ('안유진', 21),\n",
    "    ('이순재', 90),\n",
    "    ('김강훈', 15),\n",
    "    ('손흥민', 32),\n",
    "    ('강부자', 83),\n",
    "    ('박해미', 60),\n",
    "    ('박서준', 36),\n",
    "    ('박은빈', 32),\n",
    "    ('김연아', 34),\n",
    "]"
   ]
  },
  {
   "cell_type": "code",
   "execution_count": 25,
   "id": "1e53ad16-4208-4103-a616-d69d6bf02a67",
   "metadata": {},
   "outputs": [],
   "source": [
    "schema = ['name', 'age']"
   ]
  },
  {
   "cell_type": "code",
   "execution_count": 26,
   "id": "93d3e08a-8c00-4862-ae1e-39cd756e0042",
   "metadata": {},
   "outputs": [],
   "source": [
    "df = spark.createDataFrame(data = name, schema = schema)"
   ]
  },
  {
   "cell_type": "code",
   "execution_count": 27,
   "id": "82ce617e-dca2-4e88-b731-d51535b8832e",
   "metadata": {},
   "outputs": [
    {
     "name": "stdout",
     "output_type": "stream",
     "text": [
      "+------+---+\n",
      "|  name|age|\n",
      "+------+---+\n",
      "|류승룡| 54|\n",
      "|안유진| 21|\n",
      "|이순재| 90|\n",
      "|김강훈| 15|\n",
      "|손흥민| 32|\n",
      "|강부자| 83|\n",
      "|박해미| 60|\n",
      "|박서준| 36|\n",
      "|박은빈| 32|\n",
      "|김연아| 34|\n",
      "+------+---+\n",
      "\n"
     ]
    }
   ],
   "source": [
    "df.show()"
   ]
  },
  {
   "cell_type": "code",
   "execution_count": 28,
   "id": "b7a9c727-ab75-405e-ba2c-7bcb6b0ddb43",
   "metadata": {},
   "outputs": [
    {
     "name": "stdout",
     "output_type": "stream",
     "text": [
      "root\n",
      " |-- name: string (nullable = true)\n",
      " |-- age: long (nullable = true)\n",
      "\n"
     ]
    }
   ],
   "source": [
    "df.printSchema()"
   ]
  },
  {
   "cell_type": "code",
   "execution_count": 29,
   "id": "1fe475e8-9e94-49c4-8ed8-fbccbd37989a",
   "metadata": {},
   "outputs": [],
   "source": [
    "df.createOrReplaceTempView('age')"
   ]
  },
  {
   "cell_type": "code",
   "execution_count": 30,
   "id": "04234dd8-62cd-448e-81cf-d82c011cbd7c",
   "metadata": {},
   "outputs": [],
   "source": [
    "def age_category(age):\n",
    "    if (age < 35):\n",
    "        return 'young'\n",
    "    elif (age >= 35 and age < 59):\n",
    "        return 'adult'\n",
    "    else:\n",
    "        return 'senior'"
   ]
  },
  {
   "cell_type": "code",
   "execution_count": 31,
   "id": "6ec04a91-d5e7-4e55-8749-e87cfd914d34",
   "metadata": {},
   "outputs": [
    {
     "data": {
      "text/plain": [
       "<function __main__.age_category(age)>"
      ]
     },
     "execution_count": 31,
     "metadata": {},
     "output_type": "execute_result"
    }
   ],
   "source": [
    "spark.udf.register('age_category', age_category)"
   ]
  },
  {
   "cell_type": "code",
   "execution_count": 32,
   "id": "98de898d-f515-4057-9863-da560b705035",
   "metadata": {},
   "outputs": [
    {
     "name": "stdout",
     "output_type": "stream",
     "text": [
      "+------+---+-----------------+\n",
      "|  name|age|age_category(age)|\n",
      "+------+---+-----------------+\n",
      "|류승룡| 54|            adult|\n",
      "|안유진| 21|            young|\n",
      "|이순재| 90|           senior|\n",
      "|김강훈| 15|            young|\n",
      "|손흥민| 32|            young|\n",
      "|강부자| 83|           senior|\n",
      "|박해미| 60|           senior|\n",
      "|박서준| 36|            adult|\n",
      "|박은빈| 32|            young|\n",
      "|김연아| 34|            young|\n",
      "+------+---+-----------------+\n",
      "\n"
     ]
    }
   ],
   "source": [
    "#SQL문처리\n",
    "spark.sql(\"SELECT name, age, age_category(age) \\\n",
    "            From age\").show()"
   ]
  },
  {
   "cell_type": "code",
   "execution_count": null,
   "id": "f8af30ff-bd1c-4257-8b86-03debdc89e7b",
   "metadata": {},
   "outputs": [],
   "source": []
  }
 ],
 "metadata": {
  "kernelspec": {
   "display_name": "Python 3 (ipykernel)",
   "language": "python",
   "name": "python3"
  },
  "language_info": {
   "codemirror_mode": {
    "name": "ipython",
    "version": 3
   },
   "file_extension": ".py",
   "mimetype": "text/x-python",
   "name": "python",
   "nbconvert_exporter": "python",
   "pygments_lexer": "ipython3",
   "version": "3.9.7"
  }
 },
 "nbformat": 4,
 "nbformat_minor": 5
}

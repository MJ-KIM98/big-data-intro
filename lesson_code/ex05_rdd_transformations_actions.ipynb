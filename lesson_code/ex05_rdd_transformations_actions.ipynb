{
 "cells": [
  {
   "cell_type": "markdown",
   "id": "5a3ccc65",
   "metadata": {},
   "source": [
    "### Spark 설정하기"
   ]
  },
  {
   "cell_type": "markdown",
   "id": "84768869-a9c6-4d0e-a0b9-54390a3fb7e4",
   "metadata": {},
   "source": [
    "[+] 이미 실습 진행 했기에 스스로 코드를 채워 넣을 수 있어야 합"
   ]
  },
  {
   "cell_type": "code",
   "execution_count": 1,
   "id": "e83e27ae",
   "metadata": {},
   "outputs": [],
   "source": [
    "# [+] SparkConf, SparkContext 임포트\n",
    "from pyspark import SparkConf, SparkContext"
   ]
  },
  {
   "cell_type": "code",
   "execution_count": 6,
   "id": "55cf7b7e",
   "metadata": {},
   "outputs": [],
   "source": [
    "\"\"\"\n",
    "    [+] SparkConf 객체 생성 및 설정\n",
    "    - setMaster(), 마스터 노드 위치: \"local\"\n",
    "    - 앱이름: \"transformations_actions\"\n",
    "\"\"\"\n",
    "\n",
    "conf = SparkConf().setMaster('local').setAppName('transformations_actions')"
   ]
  },
  {
   "cell_type": "code",
   "execution_count": 7,
   "id": "5ff5fcce",
   "metadata": {},
   "outputs": [],
   "source": [
    "# [+] SparkContext 객체 생성\n",
    "sc = SparkContext(conf=conf)"
   ]
  },
  {
   "cell_type": "code",
   "execution_count": 9,
   "id": "7f810188",
   "metadata": {},
   "outputs": [
    {
     "data": {
      "text/plain": [
       "[('spark.master', 'local'),\n",
       " ('spark.app.id', 'local-1680136896873'),\n",
       " ('spark.driver.host', 'E2006009'),\n",
       " ('spark.driver.port', '54164'),\n",
       " ('spark.rdd.compress', 'True'),\n",
       " ('spark.serializer.objectStreamReset', '100'),\n",
       " ('spark.app.startTime', '1680136891913'),\n",
       " ('spark.submit.pyFiles', ''),\n",
       " ('spark.executor.id', 'driver'),\n",
       " ('spark.app.name', 'transformations_actions'),\n",
       " ('spark.submit.deployMode', 'client'),\n",
       " ('spark.ui.showConsoleProgress', 'true')]"
      ]
     },
     "execution_count": 9,
     "metadata": {},
     "output_type": "execute_result"
    }
   ],
   "source": [
    "# Spark 전체 설정 값 확인\n",
    "sc.getConf().getAll()"
   ]
  },
  {
   "cell_type": "code",
   "execution_count": 10,
   "id": "f32f186e",
   "metadata": {},
   "outputs": [
    {
     "ename": "ValueError",
     "evalue": "Cannot run multiple SparkContexts at once; existing SparkContext(app=transformations_actions, master=local) created by __init__ at C:\\Users\\HNW\\AppData\\Local\\Temp/ipykernel_15528/3587039525.py:2 ",
     "output_type": "error",
     "traceback": [
      "\u001b[1;31m---------------------------------------------------------------------------\u001b[0m",
      "\u001b[1;31mValueError\u001b[0m                                Traceback (most recent call last)",
      "\u001b[1;32m~\\AppData\\Local\\Temp/ipykernel_15528/3623833939.py\u001b[0m in \u001b[0;36m<module>\u001b[1;34m\u001b[0m\n\u001b[0;32m      1\u001b[0m \u001b[1;31m# SpackContext 객체 하나 더 생성하기(과연?)\u001b[0m\u001b[1;33m\u001b[0m\u001b[1;33m\u001b[0m\u001b[0m\n\u001b[1;32m----> 2\u001b[1;33m \u001b[0msc\u001b[0m \u001b[1;33m=\u001b[0m \u001b[0mSparkContext\u001b[0m\u001b[1;33m(\u001b[0m\u001b[0mconf\u001b[0m\u001b[1;33m=\u001b[0m\u001b[0mconf\u001b[0m\u001b[1;33m)\u001b[0m\u001b[1;33m\u001b[0m\u001b[1;33m\u001b[0m\u001b[0m\n\u001b[0m",
      "\u001b[1;32m~\\anaconda3\\lib\\site-packages\\pyspark\\context.py\u001b[0m in \u001b[0;36m__init__\u001b[1;34m(self, master, appName, sparkHome, pyFiles, environment, batchSize, serializer, conf, gateway, jsc, profiler_cls)\u001b[0m\n\u001b[0;32m    142\u001b[0m                 \" is not allowed as it is a security risk.\")\n\u001b[0;32m    143\u001b[0m \u001b[1;33m\u001b[0m\u001b[0m\n\u001b[1;32m--> 144\u001b[1;33m         \u001b[0mSparkContext\u001b[0m\u001b[1;33m.\u001b[0m\u001b[0m_ensure_initialized\u001b[0m\u001b[1;33m(\u001b[0m\u001b[0mself\u001b[0m\u001b[1;33m,\u001b[0m \u001b[0mgateway\u001b[0m\u001b[1;33m=\u001b[0m\u001b[0mgateway\u001b[0m\u001b[1;33m,\u001b[0m \u001b[0mconf\u001b[0m\u001b[1;33m=\u001b[0m\u001b[0mconf\u001b[0m\u001b[1;33m)\u001b[0m\u001b[1;33m\u001b[0m\u001b[1;33m\u001b[0m\u001b[0m\n\u001b[0m\u001b[0;32m    145\u001b[0m         \u001b[1;32mtry\u001b[0m\u001b[1;33m:\u001b[0m\u001b[1;33m\u001b[0m\u001b[1;33m\u001b[0m\u001b[0m\n\u001b[0;32m    146\u001b[0m             self._do_init(master, appName, sparkHome, pyFiles, environment, batchSize, serializer,\n",
      "\u001b[1;32m~\\anaconda3\\lib\\site-packages\\pyspark\\context.py\u001b[0m in \u001b[0;36m_ensure_initialized\u001b[1;34m(cls, instance, gateway, conf)\u001b[0m\n\u001b[0;32m    348\u001b[0m \u001b[1;33m\u001b[0m\u001b[0m\n\u001b[0;32m    349\u001b[0m                     \u001b[1;31m# Raise error if there is already a running Spark context\u001b[0m\u001b[1;33m\u001b[0m\u001b[1;33m\u001b[0m\u001b[0m\n\u001b[1;32m--> 350\u001b[1;33m                     raise ValueError(\n\u001b[0m\u001b[0;32m    351\u001b[0m                         \u001b[1;34m\"Cannot run multiple SparkContexts at once; \"\u001b[0m\u001b[1;33m\u001b[0m\u001b[1;33m\u001b[0m\u001b[0m\n\u001b[0;32m    352\u001b[0m                         \u001b[1;34m\"existing SparkContext(app=%s, master=%s)\"\u001b[0m\u001b[1;33m\u001b[0m\u001b[1;33m\u001b[0m\u001b[0m\n",
      "\u001b[1;31mValueError\u001b[0m: Cannot run multiple SparkContexts at once; existing SparkContext(app=transformations_actions, master=local) created by __init__ at C:\\Users\\HNW\\AppData\\Local\\Temp/ipykernel_15528/3587039525.py:2 "
     ]
    }
   ],
   "source": [
    "# SpackContext 객체 하나 더 생성하기(과연?)\n",
    "sc = SparkContext(conf=conf)"
   ]
  },
  {
   "cell_type": "code",
   "execution_count": 11,
   "id": "7e7a3e88",
   "metadata": {},
   "outputs": [],
   "source": [
    "# SparkContext는 프로그램 내에서 하나의 객체만 생성할 수 있다. (= Singleton 패턴)\n",
    "# SparkContext 객체 해제, 삭제하기\n",
    "sc.stop()"
   ]
  },
  {
   "cell_type": "code",
   "execution_count": 13,
   "id": "64df27de",
   "metadata": {},
   "outputs": [],
   "source": [
    "# 다시 생성하기\n",
    "sc = SparkContext(conf=conf)"
   ]
  },
  {
   "cell_type": "markdown",
   "id": "3966e068",
   "metadata": {},
   "source": [
    "### 기본 Actions 함수 사용하기"
   ]
  },
  {
   "cell_type": "code",
   "execution_count": 14,
   "id": "d5baa4a9",
   "metadata": {},
   "outputs": [],
   "source": [
    "\"\"\"\n",
    "    [+] List로부터 RDD 객체 생성\n",
    "    - SparkContext.parallelize()\n",
    "    - 리스트 값: \n",
    "    \"짜장면\", \"마라탕\", \"짬뽕\", \n",
    "    \"떡볶이\", \"쌀국수\", \"짬뽕\", \n",
    "    \"짜장면\", \"짜장면\", \"짜장면\", \n",
    "    \"라면\", \"우동\", \"라면\"\n",
    "\"\"\"\n",
    "lst = [\"짜장면\", \"마라탕\", \"짬뽕\", \n",
    "    \"떡볶이\", \"쌀국수\", \"짬뽕\", \n",
    "    \"짜장면\", \"짜장면\", \"짜장면\", \n",
    "    \"라면\", \"우동\", \"라면\"]\n",
    "       \n",
    "# [+] lst로부터 RDD 객체 생성하기\n",
    "foods = sc.parallelize(lst)"
   ]
  },
  {
   "cell_type": "code",
   "execution_count": 15,
   "id": "6fb4fa66",
   "metadata": {},
   "outputs": [
    {
     "data": {
      "text/plain": [
       "['짜장면', '마라탕', '짬뽕', '떡볶이', '쌀국수', '짬뽕', '짜장면', '짜장면', '짜장면', '라면', '우동', '라면']"
      ]
     },
     "execution_count": 15,
     "metadata": {},
     "output_type": "execute_result"
    }
   ],
   "source": [
    "# [+] foods RDD 내용 출력\n",
    "foods.collect()"
   ]
  },
  {
   "cell_type": "code",
   "execution_count": 17,
   "id": "d59c7f78",
   "metadata": {},
   "outputs": [
    {
     "data": {
      "text/plain": [
       "defaultdict(int,\n",
       "            {'짜장면': 4,\n",
       "             '마라탕': 1,\n",
       "             '짬뽕': 2,\n",
       "             '떡볶이': 1,\n",
       "             '쌀국수': 1,\n",
       "             '라면': 2,\n",
       "             '우동': 1})"
      ]
     },
     "execution_count": 17,
     "metadata": {},
     "output_type": "execute_result"
    }
   ],
   "source": [
    "# action!!\n",
    "# [+] foods RDD 원소 값 별로 카운팅 countByValue\n",
    "foods.countByValue()"
   ]
  },
  {
   "cell_type": "code",
   "execution_count": 19,
   "id": "bf30f01a",
   "metadata": {},
   "outputs": [
    {
     "data": {
      "text/plain": [
       "['짜장면', '마라탕', '짬뽕']"
      ]
     },
     "execution_count": 19,
     "metadata": {},
     "output_type": "execute_result"
    }
   ],
   "source": [
    "# take(n): 처음 n개의 원소를 출력\n",
    "foods.take(3)"
   ]
  },
  {
   "cell_type": "code",
   "execution_count": 20,
   "id": "2ccd511e-3955-45dc-9616-ea42b932ab73",
   "metadata": {},
   "outputs": [
    {
     "data": {
      "text/plain": [
       "['짜장면', '마라탕', '짬뽕', '떡볶이', '쌀국수']"
      ]
     },
     "execution_count": 20,
     "metadata": {},
     "output_type": "execute_result"
    }
   ],
   "source": [
    "foods.take(5)"
   ]
  },
  {
   "cell_type": "code",
   "execution_count": 21,
   "id": "5e50d039",
   "metadata": {},
   "outputs": [
    {
     "data": {
      "text/plain": [
       "'짜장면'"
      ]
     },
     "execution_count": 21,
     "metadata": {},
     "output_type": "execute_result"
    }
   ],
   "source": [
    "# first(): 첫 번째 값을 출력\n",
    "foods.first()"
   ]
  },
  {
   "cell_type": "code",
   "execution_count": 22,
   "id": "875879fb",
   "metadata": {},
   "outputs": [
    {
     "data": {
      "text/plain": [
       "12"
      ]
     },
     "execution_count": 22,
     "metadata": {},
     "output_type": "execute_result"
    }
   ],
   "source": [
    "# count(): 원소 갯수 출력(중복된 원소 포함)\n",
    "foods.count()"
   ]
  },
  {
   "cell_type": "code",
   "execution_count": 24,
   "id": "113da0af",
   "metadata": {},
   "outputs": [
    {
     "data": {
      "text/plain": [
       "['짜장면', '마라탕', '짬뽕', '떡볶이', '쌀국수', '라면', '우동']"
      ]
     },
     "execution_count": 24,
     "metadata": {},
     "output_type": "execute_result"
    }
   ],
   "source": [
    "# distinct(): unique한 원소로 구성된 RDD를 생성하는 Transformation\n",
    "\n",
    "unique_foods = foods.distinct()\n",
    "\n",
    "unique_foods.collect()"
   ]
  },
  {
   "cell_type": "markdown",
   "id": "a21043a3",
   "metadata": {},
   "source": [
    "### 기본 Transformations 함수 사용하기"
   ]
  },
  {
   "cell_type": "code",
   "execution_count": 25,
   "id": "6e65ae88",
   "metadata": {},
   "outputs": [
    {
     "data": {
      "text/plain": [
       "PythonRDD[18] at RDD at PythonRDD.scala:53"
      ]
     },
     "execution_count": 25,
     "metadata": {},
     "output_type": "execute_result"
    }
   ],
   "source": [
    "# Transformations 은 지연 실행된다.\n",
    "sc.parallelize([1, 2, 3]).map(lambda x: x + 2)"
   ]
  },
  {
   "cell_type": "code",
   "execution_count": 26,
   "id": "9c7f314d",
   "metadata": {},
   "outputs": [
    {
     "data": {
      "text/plain": [
       "[3, 4, 5]"
      ]
     },
     "execution_count": 26,
     "metadata": {},
     "output_type": "execute_result"
    }
   ],
   "source": [
    "# Actions 를 만나면 즉시 실행된다.\n",
    "sc.parallelize([1, 2, 3]).map(lambda x: x + 2).collect()"
   ]
  },
  {
   "cell_type": "code",
   "execution_count": 27,
   "id": "72bafd9b",
   "metadata": {},
   "outputs": [
    {
     "data": {
      "text/plain": [
       "[2, 4, 6]"
      ]
     },
     "execution_count": 27,
     "metadata": {},
     "output_type": "execute_result"
    }
   ],
   "source": [
    "sc.parallelize([1, 2, 3]).map(lambda x: x * 2).collect()"
   ]
  },
  {
   "cell_type": "code",
   "execution_count": 28,
   "id": "6f392ed6",
   "metadata": {},
   "outputs": [],
   "source": [
    "movies = [\n",
    "    \"그린 북\",\n",
    "    \"매트릭스\",\n",
    "    \"토이 스토리\",\n",
    "    \"캐스트 어웨이\",\n",
    "    \"포드 V 페라리\",\n",
    "    \"보헤미안 랩소디\",\n",
    "    \"빽 투 더 퓨처\",\n",
    "    \"반지의 제왕\",\n",
    "    \"죽은 시인의 사회\"\n",
    "]"
   ]
  },
  {
   "cell_type": "code",
   "execution_count": 29,
   "id": "7a958842",
   "metadata": {},
   "outputs": [],
   "source": [
    "# [+] 리스트(movies) -> RDD 객체(moviesRDD) 생성\n",
    "moviesRDD = sc.parallelize(movies)"
   ]
  },
  {
   "cell_type": "code",
   "execution_count": 30,
   "id": "54ed5400",
   "metadata": {},
   "outputs": [
    {
     "data": {
      "text/plain": [
       "['그린 북',\n",
       " '매트릭스',\n",
       " '토이 스토리',\n",
       " '캐스트 어웨이',\n",
       " '포드 V 페라리',\n",
       " '보헤미안 랩소디',\n",
       " '빽 투 더 퓨처',\n",
       " '반지의 제왕',\n",
       " '죽은 시인의 사회']"
      ]
     },
     "execution_count": 30,
     "metadata": {},
     "output_type": "execute_result"
    }
   ],
   "source": [
    "moviesRDD.collect()"
   ]
  },
  {
   "cell_type": "code",
   "execution_count": 32,
   "id": "6241ee9b-fe0c-4518-bdb3-4e698de9a5e3",
   "metadata": {},
   "outputs": [
    {
     "data": {
      "text/plain": [
       "[['그린', '북'],\n",
       " ['매트릭스'],\n",
       " ['토이', '스토리'],\n",
       " ['캐스트', '어웨이'],\n",
       " ['포드', 'V', '페라리'],\n",
       " ['보헤미안', '랩소디'],\n",
       " ['빽', '투', '더', '퓨처'],\n",
       " ['반지의', '제왕'],\n",
       " ['죽은', '시인의', '사회']]"
      ]
     },
     "execution_count": 32,
     "metadata": {},
     "output_type": "execute_result"
    }
   ],
   "source": [
    "# 원소 갯수 유지\n",
    "moviesRDD.map(lambda x: x.split(' ')).collect()"
   ]
  },
  {
   "cell_type": "code",
   "execution_count": 33,
   "id": "07fc91d6",
   "metadata": {},
   "outputs": [],
   "source": [
    "# flatMap을 이용한 Tokenizing\n",
    "flatMovies = moviesRDD.flatMap(lambda x: x.split(' '))"
   ]
  },
  {
   "cell_type": "code",
   "execution_count": 34,
   "id": "d9cb114e",
   "metadata": {},
   "outputs": [
    {
     "data": {
      "text/plain": [
       "['그린',\n",
       " '북',\n",
       " '매트릭스',\n",
       " '토이',\n",
       " '스토리',\n",
       " '캐스트',\n",
       " '어웨이',\n",
       " '포드',\n",
       " 'V',\n",
       " '페라리',\n",
       " '보헤미안',\n",
       " '랩소디',\n",
       " '빽',\n",
       " '투',\n",
       " '더',\n",
       " '퓨처',\n",
       " '반지의',\n",
       " '제왕',\n",
       " '죽은',\n",
       " '시인의',\n",
       " '사회']"
      ]
     },
     "execution_count": 34,
     "metadata": {},
     "output_type": "execute_result"
    }
   ],
   "source": [
    "flatMovies.collect()"
   ]
  },
  {
   "cell_type": "code",
   "execution_count": 35,
   "id": "576585b7-0ac4-40c4-a85c-4bacbff08137",
   "metadata": {},
   "outputs": [
    {
     "data": {
      "text/plain": [
       "21"
      ]
     },
     "execution_count": 35,
     "metadata": {},
     "output_type": "execute_result"
    }
   ],
   "source": [
    "flatMovies.count()"
   ]
  },
  {
   "cell_type": "code",
   "execution_count": 38,
   "id": "315fdd45",
   "metadata": {},
   "outputs": [],
   "source": [
    "\"\"\"\n",
    "    [+] flatMovies 에서 '매트릭스'를 제외\n",
    "    - filter(lambda ...)\n",
    "    - 저장할 객체: filteredMovies\n",
    "\"\"\"\n",
    "\n",
    "filteredMovies = flatMovies.filter(lambda x: x!= '매트릭스')"
   ]
  },
  {
   "cell_type": "code",
   "execution_count": 39,
   "id": "aeb250e0",
   "metadata": {},
   "outputs": [
    {
     "data": {
      "text/plain": [
       "['그린',\n",
       " '북',\n",
       " '토이',\n",
       " '스토리',\n",
       " '캐스트',\n",
       " '어웨이',\n",
       " '포드',\n",
       " 'V',\n",
       " '페라리',\n",
       " '보헤미안',\n",
       " '랩소디',\n",
       " '빽',\n",
       " '투',\n",
       " '더',\n",
       " '퓨처',\n",
       " '반지의',\n",
       " '제왕',\n",
       " '죽은',\n",
       " '시인의',\n",
       " '사회']"
      ]
     },
     "execution_count": 39,
     "metadata": {},
     "output_type": "execute_result"
    }
   ],
   "source": [
    "filteredMovies.collect()"
   ]
  },
  {
   "cell_type": "code",
   "execution_count": 40,
   "id": "50a4b9d8",
   "metadata": {},
   "outputs": [],
   "source": [
    "\"\"\"\n",
    "    집합 관련 transformations 연산\n",
    "\"\"\"\n",
    "\n",
    "num1 = sc.parallelize([1, 2, 3, 4])\n",
    "num2 = sc.parallelize([4, 5, 6, 7, 8, 9, 10])"
   ]
  },
  {
   "cell_type": "code",
   "execution_count": 41,
   "id": "d94cafed",
   "metadata": {},
   "outputs": [
    {
     "data": {
      "text/plain": [
       "[4]"
      ]
     },
     "execution_count": 41,
     "metadata": {},
     "output_type": "execute_result"
    }
   ],
   "source": [
    "# 교집합(intersection) 구하기\n",
    "num1.intersection(num2).collect()"
   ]
  },
  {
   "cell_type": "code",
   "execution_count": 43,
   "id": "7f4611a7",
   "metadata": {},
   "outputs": [
    {
     "data": {
      "text/plain": [
       "[1, 2, 3, 4, 4, 5, 6, 7, 8, 9, 10]"
      ]
     },
     "execution_count": 43,
     "metadata": {},
     "output_type": "execute_result"
    }
   ],
   "source": [
    "# 합집합(union) 구하기\n",
    "    # 중복 포합\n",
    "num1.union(num2).collect()"
   ]
  },
  {
   "cell_type": "code",
   "execution_count": 44,
   "id": "2404073b",
   "metadata": {},
   "outputs": [
    {
     "data": {
      "text/plain": [
       "[2, 1, 3]"
      ]
     },
     "execution_count": 44,
     "metadata": {},
     "output_type": "execute_result"
    }
   ],
   "source": [
    "# 차집합(substract) 구하기\n",
    "num1.subtract(num2).collect()"
   ]
  },
  {
   "cell_type": "code",
   "execution_count": 45,
   "id": "0619cda6-b913-4139-8365-00ec16388e0e",
   "metadata": {},
   "outputs": [
    {
     "data": {
      "text/plain": [
       "[6, 8, 10, 5, 7, 9]"
      ]
     },
     "execution_count": 45,
     "metadata": {},
     "output_type": "execute_result"
    }
   ],
   "source": [
    "num2.subtract(num1).collect()"
   ]
  },
  {
   "cell_type": "code",
   "execution_count": 46,
   "id": "e3eca9ec",
   "metadata": {},
   "outputs": [
    {
     "data": {
      "text/plain": [
       "[4, 9]"
      ]
     },
     "execution_count": 46,
     "metadata": {},
     "output_type": "execute_result"
    }
   ],
   "source": [
    "\"\"\"\n",
    "    sample(withReplacement, fraction): 원소를 랜덤 샘플링하여 새로운 RDD를 생성하는 narrow transformation\n",
    "    - withReplacement, bool[optional]: 중복 샘플링 허용 여부\n",
    "    - fraction, float[optional]: 샘플링 확률[0~1], 확률이므로 정확한 사이즈가 보장되지 않음\n",
    "    - seed: 결과 재현(reproducibility)을 위한 설정 값\n",
    "\"\"\"\n",
    "\n",
    "# 합집합 생성\n",
    "numUnion = num1.union(num2)\n",
    "\n",
    "# 샘플링: 중복 허용, 50% (전체에서 50%는 아님, 원소마다 sampling 확률이 50%)\n",
    "numUnion.sample(True, .5).collect()"
   ]
  },
  {
   "cell_type": "code",
   "execution_count": 48,
   "id": "a07c7dc9",
   "metadata": {},
   "outputs": [
    {
     "data": {
      "text/plain": [
       "[2, 3, 4, 6, 8, 8, 8, 8, 9, 9]"
      ]
     },
     "execution_count": 48,
     "metadata": {},
     "output_type": "execute_result"
    }
   ],
   "source": [
    "# seed 파라미터를 설정하면 동일한 결과를 반복적으로 얻을 수 있다.\n",
    "# seed 값이 동일하다면 pc 상관없이 결과 동일\n",
    "numUnion.sample(True, .5, seed=1).collect()"
   ]
  },
  {
   "cell_type": "code",
   "execution_count": 49,
   "id": "e04031f6",
   "metadata": {},
   "outputs": [],
   "source": [
    "\"\"\"\n",
    "    groupBy(): 특정 기준(함수로 정의)으로 그룹핑을 수행하는 wide transformation\n",
    "\"\"\"\n",
    "\n",
    "foods = sc.parallelize([\"짜장면\", \"마라탕\", \"짬뽕\", \n",
    "                        \"떡볶이\", \"쌀국수\", \"짬뽕\", \n",
    "                        \"짜장면\", \"짜장면\", \"짜장면\",  \n",
    "                        \"라면\", \"우동\", \"라면\", \n",
    "                        \"치킨\", \"돈까스\", \"회\", \n",
    "                        \"햄버거\", \"피자\"])"
   ]
  },
  {
   "cell_type": "code",
   "execution_count": 52,
   "id": "1bc7fbfb",
   "metadata": {},
   "outputs": [],
   "source": [
    "#  원소의 첫 번째 값(첫 글자)을 기준으로 그룹핑\n",
    "foodsGroup = foods.groupBy(lambda x: x[0])"
   ]
  },
  {
   "cell_type": "code",
   "execution_count": 53,
   "id": "8d4bd3e0",
   "metadata": {},
   "outputs": [
    {
     "data": {
      "text/plain": [
       "[('짜', <pyspark.resultiterable.ResultIterable at 0x285c4799880>),\n",
       " ('마', <pyspark.resultiterable.ResultIterable at 0x285c4799b20>),\n",
       " ('짬', <pyspark.resultiterable.ResultIterable at 0x285c4799a00>),\n",
       " ('떡', <pyspark.resultiterable.ResultIterable at 0x285c4799730>),\n",
       " ('쌀', <pyspark.resultiterable.ResultIterable at 0x285c4799c10>),\n",
       " ('라', <pyspark.resultiterable.ResultIterable at 0x285c4799be0>),\n",
       " ('우', <pyspark.resultiterable.ResultIterable at 0x285c4799850>),\n",
       " ('치', <pyspark.resultiterable.ResultIterable at 0x285c4799ca0>),\n",
       " ('돈', <pyspark.resultiterable.ResultIterable at 0x285c47996d0>),\n",
       " ('회', <pyspark.resultiterable.ResultIterable at 0x285c4799d90>),\n",
       " ('햄', <pyspark.resultiterable.ResultIterable at 0x285c4799910>),\n",
       " ('피', <pyspark.resultiterable.ResultIterable at 0x285c4799580>)]"
      ]
     },
     "execution_count": 53,
     "metadata": {},
     "output_type": "execute_result"
    }
   ],
   "source": [
    "foodsGroup.collect()"
   ]
  },
  {
   "cell_type": "code",
   "execution_count": 54,
   "id": "db49d378",
   "metadata": {},
   "outputs": [],
   "source": [
    "# collect() 결과를 리스트 객체(res)에 저장\n",
    "res = foodsGroup.collect()"
   ]
  },
  {
   "cell_type": "code",
   "execution_count": 55,
   "id": "5d7d95c0",
   "metadata": {},
   "outputs": [
    {
     "data": {
      "text/plain": [
       "[('짜', <pyspark.resultiterable.ResultIterable at 0x285c4725b50>),\n",
       " ('마', <pyspark.resultiterable.ResultIterable at 0x285c47bee80>),\n",
       " ('짬', <pyspark.resultiterable.ResultIterable at 0x285c47bea90>),\n",
       " ('떡', <pyspark.resultiterable.ResultIterable at 0x285c47bec40>),\n",
       " ('쌀', <pyspark.resultiterable.ResultIterable at 0x285c47be7c0>),\n",
       " ('라', <pyspark.resultiterable.ResultIterable at 0x285c47be250>),\n",
       " ('우', <pyspark.resultiterable.ResultIterable at 0x285c47be2b0>),\n",
       " ('치', <pyspark.resultiterable.ResultIterable at 0x285c47be3a0>),\n",
       " ('돈', <pyspark.resultiterable.ResultIterable at 0x285c47be550>),\n",
       " ('회', <pyspark.resultiterable.ResultIterable at 0x285c47be610>),\n",
       " ('햄', <pyspark.resultiterable.ResultIterable at 0x285c47be100>),\n",
       " ('피', <pyspark.resultiterable.ResultIterable at 0x285c47bea30>)]"
      ]
     },
     "execution_count": 55,
     "metadata": {},
     "output_type": "execute_result"
    }
   ],
   "source": [
    "res"
   ]
  },
  {
   "cell_type": "code",
   "execution_count": 57,
   "id": "4e7c6fd3",
   "metadata": {},
   "outputs": [
    {
     "data": {
      "text/plain": [
       "['짜장면', '짜장면', '짜장면', '짜장면']"
      ]
     },
     "execution_count": 57,
     "metadata": {},
     "output_type": "execute_result"
    }
   ],
   "source": [
    "# ResultIterable 객체는 list로 쉽게 변환 가능하다.\n",
    "    # res[0][] 행 선택을 위한 index\n",
    "    # res[][1] 열 선택을 위한 index\n",
    "list(res[0][1])"
   ]
  },
  {
   "cell_type": "code",
   "execution_count": 58,
   "id": "edbc8192-00a3-4179-a17e-c1e40a1f950c",
   "metadata": {},
   "outputs": [
    {
     "data": {
      "text/plain": [
       "['떡볶이']"
      ]
     },
     "execution_count": 58,
     "metadata": {},
     "output_type": "execute_result"
    }
   ],
   "source": [
    "list(res[3][1])"
   ]
  },
  {
   "cell_type": "code",
   "execution_count": 59,
   "id": "7f71841f-9e9e-4be7-a548-f27c5d49435b",
   "metadata": {},
   "outputs": [
    {
     "data": {
      "text/plain": [
       "list"
      ]
     },
     "execution_count": 59,
     "metadata": {},
     "output_type": "execute_result"
    }
   ],
   "source": [
    "# 더 이상 RDD가 아님!!\n",
    "type(res)"
   ]
  },
  {
   "cell_type": "code",
   "execution_count": 60,
   "id": "f0ce0a66",
   "metadata": {},
   "outputs": [
    {
     "name": "stdout",
     "output_type": "stream",
     "text": [
      "짜 ['짜장면', '짜장면', '짜장면', '짜장면']\n",
      "마 ['마라탕']\n",
      "짬 ['짬뽕', '짬뽕']\n",
      "떡 ['떡볶이']\n",
      "쌀 ['쌀국수']\n",
      "라 ['라면', '라면']\n",
      "우 ['우동']\n",
      "치 ['치킨']\n",
      "돈 ['돈까스']\n",
      "회 ['회']\n",
      "햄 ['햄버거']\n",
      "피 ['피자']\n"
     ]
    }
   ],
   "source": [
    "# for 문을 이용하여 구조적으로 결과를 출력\n",
    " # list 사용이 필수!\n",
    "for (k, v) in res:      # (k, v) key  value\n",
    "    print(k, list(v))   # value는 list가 아니기에 변환!"
   ]
  },
  {
   "cell_type": "code",
   "execution_count": 61,
   "id": "436e6f5c",
   "metadata": {},
   "outputs": [],
   "source": [
    "# groupBy()는 모드 연산과 같이 수학 연산에도 사용될 수 있다.\n",
    "nums = sc.parallelize([1,2,3,4,5,6,7,8,9,10])"
   ]
  },
  {
   "cell_type": "code",
   "execution_count": 62,
   "id": "94357c10",
   "metadata": {},
   "outputs": [],
   "source": [
    "# 홀수/짝수로 그룹핑\n",
    "res = nums.groupBy(lambda x: x % 2).collect()"
   ]
  },
  {
   "cell_type": "code",
   "execution_count": 63,
   "id": "9126d34c-9b60-40cc-bb2c-8865752523db",
   "metadata": {},
   "outputs": [
    {
     "name": "stdout",
     "output_type": "stream",
     "text": [
      "1 [1, 3, 5, 7, 9]\n",
      "0 [2, 4, 6, 8, 10]\n"
     ]
    }
   ],
   "source": [
    "for (k,v) in res:\n",
    "    print(k, list(v))"
   ]
  },
  {
   "cell_type": "code",
   "execution_count": 67,
   "id": "16d990bc",
   "metadata": {},
   "outputs": [
    {
     "data": {
      "text/plain": [
       "[1, 3, 5, 7, 9]"
      ]
     },
     "execution_count": 67,
     "metadata": {},
     "output_type": "execute_result"
    }
   ],
   "source": [
    "# [+] '1' 그룹에 해당되는 원소 리스트 출력하기\n",
    "res = nums.groupBy(lambda x: x % 2).collect()\n",
    "list(res[0][1])"
   ]
  },
  {
   "cell_type": "code",
   "execution_count": 74,
   "id": "9c5cd038",
   "metadata": {},
   "outputs": [
    {
     "data": {
      "text/plain": [
       "[2, 4, 6, 8, 10]"
      ]
     },
     "execution_count": 74,
     "metadata": {},
     "output_type": "execute_result"
    }
   ],
   "source": [
    "# [+] '0' 그룹에 해당되는 원소 리스트 출력하기\n",
    "res = nums.groupBy(lambda x: x % 2).collect()\n",
    "list(res[1][1])"
   ]
  },
  {
   "cell_type": "code",
   "execution_count": null,
   "id": "c7407af3-d819-4426-a212-e60b80cd5bba",
   "metadata": {},
   "outputs": [],
   "source": []
  }
 ],
 "metadata": {
  "kernelspec": {
   "display_name": "Python 3 (ipykernel)",
   "language": "python",
   "name": "python3"
  },
  "language_info": {
   "codemirror_mode": {
    "name": "ipython",
    "version": 3
   },
   "file_extension": ".py",
   "mimetype": "text/x-python",
   "name": "python",
   "nbconvert_exporter": "python",
   "pygments_lexer": "ipython3",
   "version": "3.9.7"
  }
 },
 "nbformat": 4,
 "nbformat_minor": 5
}

{
 "cells": [
  {
   "cell_type": "markdown",
   "id": "bc1e5b83",
   "metadata": {},
   "source": [
    "## MLlib으로 영화 추천 알고리즘 구현하기\n",
    "+ 데이터셋: MovieLens(2500만개 영화 평점 데이터), 본 예제에서는 7만개의 데이터만 사용 ```ratings_short.csv```\n",
    "+ 추천 알고리즘: Alternating Least Squares (ALS)"
   ]
  },
  {
   "cell_type": "markdown",
   "id": "37f7daba-12d1-490c-969b-67f4960e5c90",
   "metadata": {},
   "source": [
    "---"
   ]
  },
  {
   "cell_type": "markdown",
   "id": "cfa68dfb-a0bc-4b4a-88d0-894ddb4dac10",
   "metadata": {},
   "source": [
    "### 1. 영화 평점 데이터 불러오기 & 데이터프레임 생성하기"
   ]
  },
  {
   "cell_type": "code",
   "execution_count": 4,
   "id": "faf87ab9",
   "metadata": {
    "tags": []
   },
   "outputs": [],
   "source": [
    "# [+] SparkSession 설정\n",
    "from pyspark.sql import SparkSession\n",
    "spark = SparkSession.builder.appName('movie_recommendation').getOrCreate()"
   ]
  },
  {
   "cell_type": "markdown",
   "id": "2d32e235-7181-4dfe-aa27-0c5bc6b430ff",
   "metadata": {
    "tags": []
   },
   "source": [
    "#### movielens 데이터 불러오기\n",
    "+ 파일명: ```ratings_short.csv```\n",
    "+ 스키마 설정: ```inferSchema=True```\n",
    "+ 헤더 사용: ```header=True```"
   ]
  },
  {
   "cell_type": "code",
   "execution_count": 5,
   "id": "a8e076f8",
   "metadata": {
    "tags": []
   },
   "outputs": [],
   "source": [
    "# [+] movielens 데이터 불러오기\n",
    "path = './data/'\n",
    "file = 'ratings_short.csv'\n",
    "\n",
    "ratings_df = spark.read.csv(path + file, inferSchema = True, header = True)"
   ]
  },
  {
   "cell_type": "code",
   "execution_count": 6,
   "id": "26db9ac1",
   "metadata": {
    "scrolled": true,
    "tags": []
   },
   "outputs": [
    {
     "name": "stdout",
     "output_type": "stream",
     "text": [
      "+------+-------+------+----------+\n",
      "|userId|movieId|rating| timestamp|\n",
      "+------+-------+------+----------+\n",
      "|     1|    296|   5.0|1147880044|\n",
      "|     1|    306|   3.5|1147868817|\n",
      "|     1|    307|   5.0|1147868828|\n",
      "|     1|    665|   5.0|1147878820|\n",
      "|     1|    899|   3.5|1147868510|\n",
      "|     1|   1088|   4.0|1147868495|\n",
      "|     1|   1175|   3.5|1147868826|\n",
      "|     1|   1217|   3.5|1147878326|\n",
      "|     1|   1237|   5.0|1147868839|\n",
      "|     1|   1250|   4.0|1147868414|\n",
      "|     1|   1260|   3.5|1147877857|\n",
      "|     1|   1653|   4.0|1147868097|\n",
      "|     1|   2011|   2.5|1147868079|\n",
      "|     1|   2012|   2.5|1147868068|\n",
      "|     1|   2068|   2.5|1147869044|\n",
      "|     1|   2161|   3.5|1147868609|\n",
      "|     1|   2351|   4.5|1147877957|\n",
      "|     1|   2573|   4.0|1147878923|\n",
      "|     1|   2632|   5.0|1147878248|\n",
      "|     1|   2692|   5.0|1147869100|\n",
      "+------+-------+------+----------+\n",
      "only showing top 20 rows\n",
      "\n"
     ]
    }
   ],
   "source": [
    "# [+] 데이터프레임 출력\n",
    "ratings_df.show()"
   ]
  },
  {
   "cell_type": "code",
   "execution_count": 7,
   "id": "2cc2e1f3",
   "metadata": {
    "tags": []
   },
   "outputs": [
    {
     "name": "stdout",
     "output_type": "stream",
     "text": [
      "root\n",
      " |-- userId: integer (nullable = true)\n",
      " |-- movieId: integer (nullable = true)\n",
      " |-- rating: double (nullable = true)\n",
      " |-- timestamp: integer (nullable = true)\n",
      "\n"
     ]
    }
   ],
   "source": [
    "# [+] 데이터프레임 스키마 출력\n",
    "ratings_df.printSchema()"
   ]
  },
  {
   "cell_type": "markdown",
   "id": "3bad3fb3-af10-4148-9062-4019d39ec57d",
   "metadata": {},
   "source": [
    "rating : double\n",
    "            실수형"
   ]
  },
  {
   "cell_type": "code",
   "execution_count": 8,
   "id": "c812437a",
   "metadata": {
    "tags": []
   },
   "outputs": [],
   "source": [
    "# 타임스탬프를 제외한 컬럼 선택\n",
    "                        # select 자체 제공 method\n",
    "                        #        전체 column에서 리스트 안의 column만 선택\n",
    "ratings_df = ratings_df.select(['userId', 'movieId', 'rating'])"
   ]
  },
  {
   "cell_type": "code",
   "execution_count": 9,
   "id": "d0fe273c",
   "metadata": {
    "tags": []
   },
   "outputs": [
    {
     "name": "stdout",
     "output_type": "stream",
     "text": [
      "+-------+------------------+\n",
      "|summary|            rating|\n",
      "+-------+------------------+\n",
      "|  count|             71921|\n",
      "|   mean|3.5821387355570695|\n",
      "| stddev| 1.042406032579843|\n",
      "|    min|               0.5|\n",
      "|    max|               5.0|\n",
      "+-------+------------------+\n",
      "\n"
     ]
    }
   ],
   "source": [
    "# describe(): 기술 통계량 출력\n",
    "            # dataframe\n",
    "ratings_df.select('rating').describe().show()"
   ]
  },
  {
   "cell_type": "markdown",
   "id": "a18c987a-06b3-47df-af97-d79d58849c55",
   "metadata": {},
   "source": [
    "### 2. 훈련 데이터 준비 및 영화 추천 모델 학습"
   ]
  },
  {
   "cell_type": "markdown",
   "id": "a487d0f2-b9c3-4250-9ccb-987e3ea3e7e2",
   "metadata": {},
   "source": [
    "train data\n",
    "        학습용\n",
    "test data    \n",
    "        성능 평가용"
   ]
  },
  {
   "cell_type": "code",
   "execution_count": 10,
   "id": "b5fbb44d",
   "metadata": {
    "tags": []
   },
   "outputs": [],
   "source": [
    "# randomSplit(): 훈련 데이터셋과 테스트 데이터셋을 나누기\n",
    "            # 전체의 80% = 학습용 data\n",
    "            # 전체의 20% = 테스트 용 data\n",
    "train_df, test_df = ratings_df.randomSplit([0.8, 0.2])"
   ]
  },
  {
   "cell_type": "code",
   "execution_count": 11,
   "id": "987e4fb5",
   "metadata": {
    "tags": []
   },
   "outputs": [],
   "source": [
    "# 추천 알고리즘(Alternating Least Squares) 임포트\n",
    "from  pyspark.ml.recommendation import ALS"
   ]
  },
  {
   "cell_type": "markdown",
   "id": "cefaa37a-cc00-4a4d-baf1-595711e07bc8",
   "metadata": {},
   "source": [
    "#### 추천 알고리즘 초매개변수 설정\n",
    "+ ```maxIter```: 최대 학습 반복 횟수\n",
    "+ ```regParam```: 정규화 매개변수(범위: 0~1)\n",
    "+ ```coldStartStrategy```: 데이터가 부족한 신규 유저 및 아이템에 대한 예측 문제(Cold Start)를 처리하는 방식이며 ```drop```값은 해당 데이터를 모델 학습 과정에서 배제"
   ]
  },
  {
   "cell_type": "code",
   "execution_count": 12,
   "id": "96f20b1d",
   "metadata": {
    "tags": []
   },
   "outputs": [],
   "source": [
    "# 추천 알고리즘 초매개변수 설정\n",
    "                        # 'drop' 제외\n",
    "als = ALS(\n",
    "    maxIter=5,\n",
    "    regParam=0.1,\n",
    "    userCol='userId',\n",
    "    itemCol='movieId',\n",
    "    ratingCol='rating',\n",
    "    coldStartStrategy='drop'\n",
    ")"
   ]
  },
  {
   "cell_type": "code",
   "execution_count": 13,
   "id": "037ebe26",
   "metadata": {
    "tags": []
   },
   "outputs": [],
   "source": [
    "# [+] 모델 학습\n",
    "model = als.fit(train_df)"
   ]
  },
  {
   "cell_type": "code",
   "execution_count": null,
   "id": "a1882b8a",
   "metadata": {},
   "outputs": [],
   "source": [
    "# # 메모리 부족으로 인한 오류 발생시, 아래의 코드를 실행\n",
    "# from pyspark.sql import SparkSession\n",
    "\n",
    "# MAX_MEMORY = '5g'\n",
    "# spark = SparkSession.builder.appName('movie-recommendation')\\\n",
    "#     .config('spark.executor.memory', MAX_MEMORY)\\\n",
    "#     .config('spark.driver.memory', MAX_MEMORY)\\\n",
    "#     .getOrCreate()"
   ]
  },
  {
   "cell_type": "code",
   "execution_count": 14,
   "id": "114f9a40",
   "metadata": {
    "tags": []
   },
   "outputs": [],
   "source": [
    "# [+] 모델 예측\n",
    "predictions = model.transform(test_df)"
   ]
  },
  {
   "cell_type": "code",
   "execution_count": 15,
   "id": "07a8f368",
   "metadata": {
    "scrolled": true,
    "tags": []
   },
   "outputs": [
    {
     "name": "stdout",
     "output_type": "stream",
     "text": [
      "+------+-------+------+----------+\n",
      "|userId|movieId|rating|prediction|\n",
      "+------+-------+------+----------+\n",
      "|   472|   1088|   4.0| 3.2102757|\n",
      "|   321|   1580|   3.0|   3.15096|\n",
      "|   375|   1580|   2.5| 3.4394088|\n",
      "|   368|   3175|   5.0| 3.4469876|\n",
      "|    76|   1342|   3.5|  3.150262|\n",
      "|    76|   3175|   3.5| 2.7611709|\n",
      "|   332|   1580|   4.0| 3.5164542|\n",
      "|    12|   8638|   4.0| 3.8325171|\n",
      "|    12|  33722|   3.0| 3.0845177|\n",
      "|   548|   1342|   3.5| 3.2207136|\n",
      "|   548|   1580|   3.5|   3.57827|\n",
      "|   548|   4900|   3.5| 2.6797392|\n",
      "|   548|   5803|   2.5| 3.2255998|\n",
      "|   548|   6620|   4.5| 3.7811031|\n",
      "|   409|   1580|   3.5| 3.6983516|\n",
      "|   319|   1238|   5.0|  3.215889|\n",
      "|    93|  44022|   4.0| 3.1742961|\n",
      "|   233|   1580|   5.0| 3.5785766|\n",
      "|   177|   1580|   3.0| 3.2942014|\n",
      "|   185|   1959|   3.0| 3.2285845|\n",
      "+------+-------+------+----------+\n",
      "only showing top 20 rows\n",
      "\n"
     ]
    }
   ],
   "source": [
    "# [+] 예측값 출력\n",
    "predictions.show()"
   ]
  },
  {
   "cell_type": "code",
   "execution_count": 16,
   "id": "065a7c78",
   "metadata": {
    "tags": []
   },
   "outputs": [
    {
     "name": "stdout",
     "output_type": "stream",
     "text": [
      "+-------+-----------------+------------------+\n",
      "|summary|           rating|        prediction|\n",
      "+-------+-----------------+------------------+\n",
      "|  count|            13544|             13544|\n",
      "|   mean|3.600671884229179| 3.418213703271884|\n",
      "| stddev|1.050661753045585|0.7705040980908947|\n",
      "|    min|              0.5|       -0.21918255|\n",
      "|    max|              5.0|         5.5198298|\n",
      "+-------+-----------------+------------------+\n",
      "\n"
     ]
    }
   ],
   "source": [
    "# [+] 평점과 예측평점에 대한 통계 출력\n",
    "        # 전체 데이터의 20%에 대한 통계\n",
    "predictions.select('rating', 'prediction').describe().show()"
   ]
  },
  {
   "cell_type": "code",
   "execution_count": 17,
   "id": "31ba8ac5",
   "metadata": {
    "tags": []
   },
   "outputs": [],
   "source": [
    "# 모델 성능 평가: RMSE(Root Mean Squared Error)\n",
    "from pyspark.ml.evaluation import RegressionEvaluator\n",
    "\n",
    "evaluator = RegressionEvaluator(\n",
    "    metricName='rmse',\n",
    "    labelCol='rating',\n",
    "    predictionCol='prediction'\n",
    ")"
   ]
  },
  {
   "cell_type": "code",
   "execution_count": 18,
   "id": "9c4ab50b",
   "metadata": {
    "tags": []
   },
   "outputs": [],
   "source": [
    "# RMSE(평균 제곱근 오차) 측정\n",
    "rmse = evaluator.evaluate(predictions)"
   ]
  },
  {
   "cell_type": "code",
   "execution_count": 19,
   "id": "ce75da9f",
   "metadata": {
    "tags": []
   },
   "outputs": [
    {
     "data": {
      "text/plain": [
       "0.9261723907399123"
      ]
     },
     "execution_count": 19,
     "metadata": {},
     "output_type": "execute_result"
    }
   ],
   "source": [
    "rmse"
   ]
  },
  {
   "cell_type": "markdown",
   "id": "78e2baa3-640b-489d-863e-53ad1c386d44",
   "metadata": {},
   "source": [
    "### 3. 학습된 모델을 이용한 영화 추천\n",
    "+ ```recommendForAllUsers()```: 유저별 아이템 추천\n",
    "+ ```recommendForAllItems()```: 아이템별 유저 추천\n",
    "+ ```recommendForUserSubset()```: 특정 유저 그룹에 대한 아이템 추천"
   ]
  },
  {
   "cell_type": "code",
   "execution_count": 20,
   "id": "31cfbac6",
   "metadata": {
    "scrolled": true,
    "tags": []
   },
   "outputs": [
    {
     "name": "stderr",
     "output_type": "stream",
     "text": [
      "C:\\Users\\HNW\\anaconda3\\lib\\site-packages\\pyspark\\sql\\context.py:125: FutureWarning: Deprecated in 3.0.0. Use SparkSession.builder.getOrCreate() instead.\n",
      "  warnings.warn(\n"
     ]
    },
    {
     "name": "stdout",
     "output_type": "stream",
     "text": [
      "+------+--------------------+\n",
      "|userId|     recommendations|\n",
      "+------+--------------------+\n",
      "|     1|[{8235, 5.5344176...|\n",
      "|     2|[{105355, 5.61402...|\n",
      "|     3|[{8582, 5.1088443...|\n",
      "|     4|[{3910, 4.950136}...|\n",
      "|     5|[{443, 5.142886},...|\n",
      "|     6|[{1243, 5.499255}...|\n",
      "|     7|[{714, 4.6875753}...|\n",
      "|     8|[{3896, 5.540375}...|\n",
      "|     9|[{3360, 5.324882}...|\n",
      "|    10|[{8582, 5.0786133...|\n",
      "|    11|[{78218, 5.327832...|\n",
      "|    12|[{1221, 4.5944858...|\n",
      "|    13|[{8235, 5.1588063...|\n",
      "|    14|[{6286, 5.681328}...|\n",
      "|    15|[{3881, 5.809094}...|\n",
      "|    16|[{6286, 5.191756}...|\n",
      "|    17|[{3037, 4.849959}...|\n",
      "|    18|[{27846, 4.863466...|\n",
      "|    19|[{135456, 4.93533...|\n",
      "|    20|[{8582, 5.496078}...|\n",
      "+------+--------------------+\n",
      "only showing top 20 rows\n",
      "\n"
     ]
    }
   ],
   "source": [
    "# 유저별 아이템을 3개씩 추천\n",
    "model.recommendForAllUsers(3).show()"
   ]
  },
  {
   "cell_type": "code",
   "execution_count": 21,
   "id": "a1ea9ac3",
   "metadata": {
    "scrolled": true,
    "tags": []
   },
   "outputs": [
    {
     "name": "stdout",
     "output_type": "stream",
     "text": [
      "+-------+--------------------+\n",
      "|movieId|     recommendations|\n",
      "+-------+--------------------+\n",
      "|     12|[{198, 4.462164},...|\n",
      "|     26|[{173, 5.0856786}...|\n",
      "|     27|[{50, 4.037017}, ...|\n",
      "|     28|[{173, 4.758955},...|\n",
      "|     31|[{153, 4.535494},...|\n",
      "|     34|[{327, 4.8244114}...|\n",
      "|     44|[{349, 4.6093607}...|\n",
      "|     65|[{117, 3.6695867}...|\n",
      "|     76|[{463, 3.8579214}...|\n",
      "|     78|[{463, 3.896467},...|\n",
      "|     81|[{87, 4.532772}, ...|\n",
      "|     85|[{327, 5.0911446}...|\n",
      "|    101|[{448, 5.584436},...|\n",
      "|    103|[{327, 4.395684},...|\n",
      "|    115|[{127, 4.1773496}...|\n",
      "|    155|[{117, 4.9961147}...|\n",
      "|    159|[{129, 4.924922},...|\n",
      "|    183|[{198, 4.6034145}...|\n",
      "|    193|[{199, 4.5397544}...|\n",
      "|    210|[{117, 4.417731},...|\n",
      "+-------+--------------------+\n",
      "only showing top 20 rows\n",
      "\n"
     ]
    }
   ],
   "source": [
    "# 아이템별 유저를 3명씩 추천\n",
    "model.recommendForAllItems(3).show()"
   ]
  },
  {
   "cell_type": "code",
   "execution_count": 22,
   "id": "d8870387",
   "metadata": {
    "tags": []
   },
   "outputs": [],
   "source": [
    "# 특정 유저 선택\n",
    "        # dataframe으로 만들기 위해 억지로 list化\n",
    "user_lst = [1]"
   ]
  },
  {
   "cell_type": "code",
   "execution_count": 23,
   "id": "8428eb11-37c0-4aff-83a3-0276119effc3",
   "metadata": {
    "tags": []
   },
   "outputs": [],
   "source": [
    "from pyspark.sql.types import IntegerType"
   ]
  },
  {
   "cell_type": "code",
   "execution_count": 24,
   "id": "52961c14",
   "metadata": {
    "tags": []
   },
   "outputs": [],
   "source": [
    "# 데이터프레임 생성\n",
    "                                # user_lst = [1] \n",
    "                                                                # column 명 지정\n",
    "users_df = spark.createDataFrame(user_lst, IntegerType()).toDF('userID')"
   ]
  },
  {
   "cell_type": "code",
   "execution_count": 25,
   "id": "775e13ed",
   "metadata": {
    "tags": []
   },
   "outputs": [
    {
     "name": "stdout",
     "output_type": "stream",
     "text": [
      "+------+\n",
      "|userID|\n",
      "+------+\n",
      "|     1|\n",
      "+------+\n",
      "\n"
     ]
    }
   ],
   "source": [
    "users_df.show()"
   ]
  },
  {
   "cell_type": "code",
   "execution_count": 26,
   "id": "57c5a83a",
   "metadata": {
    "tags": []
   },
   "outputs": [],
   "source": [
    "# recommendForUserSubset(): 특정 유저 그룹에 대한 아이템 추천\n",
    "user_recs = model.recommendForUserSubset(users_df, 5)"
   ]
  },
  {
   "cell_type": "code",
   "execution_count": 27,
   "id": "fe0d5794",
   "metadata": {
    "tags": []
   },
   "outputs": [
    {
     "name": "stdout",
     "output_type": "stream",
     "text": [
      "+------+--------------------+\n",
      "|userId|     recommendations|\n",
      "+------+--------------------+\n",
      "|     1|[{8235, 5.5344176...|\n",
      "+------+--------------------+\n",
      "\n"
     ]
    }
   ],
   "source": [
    "user_recs.show()"
   ]
  },
  {
   "cell_type": "code",
   "execution_count": 28,
   "id": "a6515cbd-f065-436f-a971-2356c38f50da",
   "metadata": {},
   "outputs": [
    {
     "data": {
      "text/plain": [
       "[Row(userId=1, recommendations=[Row(movieId=8235, rating=5.534417629241943), Row(movieId=84187, rating=5.058632850646973), Row(movieId=135456, rating=4.957610607147217), Row(movieId=6433, rating=4.951874732971191), Row(movieId=7099, rating=4.939278602600098)])]"
      ]
     },
     "execution_count": 28,
     "metadata": {},
     "output_type": "execute_result"
    }
   ],
   "source": [
    "user_recs.collect()"
   ]
  },
  {
   "cell_type": "code",
   "execution_count": 29,
   "id": "ffe850a7",
   "metadata": {
    "tags": []
   },
   "outputs": [],
   "source": [
    "# 추천결과를 파이썬 객체로 받아오기\n",
    "movies_lst = user_recs.collect()[0].recommendations"
   ]
  },
  {
   "cell_type": "code",
   "execution_count": 30,
   "id": "9929874c",
   "metadata": {
    "tags": []
   },
   "outputs": [
    {
     "data": {
      "text/plain": [
       "[Row(movieId=8235, rating=5.534417629241943),\n",
       " Row(movieId=84187, rating=5.058632850646973),\n",
       " Row(movieId=135456, rating=4.957610607147217),\n",
       " Row(movieId=6433, rating=4.951874732971191),\n",
       " Row(movieId=7099, rating=4.939278602600098)]"
      ]
     },
     "execution_count": 30,
     "metadata": {},
     "output_type": "execute_result"
    }
   ],
   "source": [
    "movies_lst"
   ]
  },
  {
   "cell_type": "code",
   "execution_count": 31,
   "id": "243bf36e",
   "metadata": {
    "tags": []
   },
   "outputs": [
    {
     "name": "stdout",
     "output_type": "stream",
     "text": [
      "+-------+-----------------+\n",
      "|movieId|           rating|\n",
      "+-------+-----------------+\n",
      "|   8235|5.534417629241943|\n",
      "|  84187|5.058632850646973|\n",
      "| 135456|4.957610607147217|\n",
      "|   6433|4.951874732971191|\n",
      "|   7099|4.939278602600098|\n",
      "+-------+-----------------+\n",
      "\n"
     ]
    }
   ],
   "source": [
    "# movies_lst에 대한 데이터프레임 생성\n",
    "recs_df = spark.createDataFrame(movies_lst)\n",
    "recs_df.show()"
   ]
  },
  {
   "cell_type": "markdown",
   "id": "1156a798-aa1a-4d32-a795-6d579ee4e707",
   "metadata": {},
   "source": [
    "가장 추천하는 8235는 어떤 영화인가?"
   ]
  },
  {
   "cell_type": "code",
   "execution_count": 33,
   "id": "6d7d6336",
   "metadata": {
    "tags": []
   },
   "outputs": [],
   "source": [
    "# [+] 영화 데이터에 대한 데이터프레임 생성\n",
    "\n",
    "file = 'movies.csv'\n",
    "\n",
    "movies_df = spark.read.csv(path+file, inferSchema = True, header = True)\n"
   ]
  },
  {
   "cell_type": "code",
   "execution_count": 34,
   "id": "21c70cb9-6204-4c85-8f4f-81610d32e55a",
   "metadata": {
    "scrolled": true,
    "tags": []
   },
   "outputs": [
    {
     "name": "stdout",
     "output_type": "stream",
     "text": [
      "+-------+--------------------+--------------------+\n",
      "|movieId|               title|              genres|\n",
      "+-------+--------------------+--------------------+\n",
      "|      1|    Toy Story (1995)|Adventure|Animati...|\n",
      "|      2|      Jumanji (1995)|Adventure|Childre...|\n",
      "|      3|Grumpier Old Men ...|      Comedy|Romance|\n",
      "|      4|Waiting to Exhale...|Comedy|Drama|Romance|\n",
      "|      5|Father of the Bri...|              Comedy|\n",
      "|      6|         Heat (1995)|Action|Crime|Thri...|\n",
      "|      7|      Sabrina (1995)|      Comedy|Romance|\n",
      "|      8| Tom and Huck (1995)|  Adventure|Children|\n",
      "|      9| Sudden Death (1995)|              Action|\n",
      "|     10|    GoldenEye (1995)|Action|Adventure|...|\n",
      "|     11|American Presiden...|Comedy|Drama|Romance|\n",
      "|     12|Dracula: Dead and...|       Comedy|Horror|\n",
      "|     13|        Balto (1995)|Adventure|Animati...|\n",
      "|     14|        Nixon (1995)|               Drama|\n",
      "|     15|Cutthroat Island ...|Action|Adventure|...|\n",
      "|     16|       Casino (1995)|         Crime|Drama|\n",
      "|     17|Sense and Sensibi...|       Drama|Romance|\n",
      "|     18|   Four Rooms (1995)|              Comedy|\n",
      "|     19|Ace Ventura: When...|              Comedy|\n",
      "|     20|  Money Train (1995)|Action|Comedy|Cri...|\n",
      "+-------+--------------------+--------------------+\n",
      "only showing top 20 rows\n",
      "\n"
     ]
    }
   ],
   "source": [
    "movies_df.show()"
   ]
  },
  {
   "cell_type": "code",
   "execution_count": 35,
   "id": "c8b591ed",
   "metadata": {
    "tags": []
   },
   "outputs": [],
   "source": [
    "# [+] recs_df, movies_df 에 대한 Temporary View 생성\n",
    "recs_df.createOrReplaceTempView('recommendations')\n",
    "movies_df.createOrReplaceTempView('movies')"
   ]
  },
  {
   "cell_type": "code",
   "execution_count": 36,
   "id": "f74abf23",
   "metadata": {
    "tags": []
   },
   "outputs": [
    {
     "name": "stdout",
     "output_type": "stream",
     "text": [
      "+-------+--------------------+--------------------+-------+-----------------+\n",
      "|movieId|               title|              genres|movieId|           rating|\n",
      "+-------+--------------------+--------------------+-------+-----------------+\n",
      "|   8235| Safety Last! (1923)|Action|Comedy|Rom...|   8235|5.534417629241943|\n",
      "|  84187|Evangelion: 2.0 Y...|Action|Animation|...|  84187|5.058632850646973|\n",
      "| 135456|Ghost in the Shel...|Action|Animation|...| 135456|4.957610607147217|\n",
      "|   6433|Man with the Movi...|         Documentary|   6433|4.951874732971191|\n",
      "|   7099|Nausicaä of the V...|Adventure|Animati...|   7099|4.939278602600098|\n",
      "+-------+--------------------+--------------------+-------+-----------------+\n",
      "\n"
     ]
    }
   ],
   "source": [
    "# SQL JOIN 연산을 통해 추천된 영화 제목 받아오기\n",
    "spark.sql(\n",
    "    \"SELECT * \\\n",
    "    FROM movies JOIN recommendations \\\n",
    "    ON movies.movieID = recommendations.movieID \\\n",
    "    ORDER BY rating DESC\"\n",
    "                    # 내림차순\n",
    ").show()"
   ]
  },
  {
   "cell_type": "markdown",
   "id": "446de3c0-6d23-41b4-9a56-50a73b4aa3ec",
   "metadata": {},
   "source": [
    "### 4. 유저 별 영화 추천 서비스를 간단하게 구현하기\n",
    "1. SQL문 작성\n",
    "2. 영화 추천 함수 작성\n",
    "3. 영화 추천 테스트"
   ]
  },
  {
   "cell_type": "code",
   "execution_count": 37,
   "id": "11db56a9",
   "metadata": {
    "tags": []
   },
   "outputs": [],
   "source": [
    "# SQL JOIN 연산을 통해 추천된 영화 제목 받아오기\n",
    "query = \"\"\"\n",
    "SELECT * \n",
    "FROM movies JOIN recommendations \n",
    "ON movies.movieID = recommendations.movieID\n",
    "ORDER BY rating DESC\n",
    "\"\"\""
   ]
  },
  {
   "cell_type": "code",
   "execution_count": 38,
   "id": "75a890f4",
   "metadata": {
    "tags": []
   },
   "outputs": [],
   "source": [
    "# 입력된 유저에 대한 영화 추천 함수\n",
    "def get_recommendations(user_id, num_recs):                                     # input user_id\n",
    "    users_df = spark.createDataFrame([user_id], IntegerType()).toDF('userID')   # dataframe化 \n",
    "    users_recs_df = model.recommendForUserSubset(users_df, num_recs)\n",
    "    \n",
    "    recs_lst = users_recs_df.collect()[0].recommendations\n",
    "    recs_df = spark.createDataFrame(recs_lst)\n",
    "    recs_df.createOrReplaceTempView('recommendations')\n",
    "\n",
    "    recommended_movies = spark.sql(query)\n",
    "    \n",
    "    return recommended_movies"
   ]
  },
  {
   "cell_type": "code",
   "execution_count": 39,
   "id": "a11e869c",
   "metadata": {
    "tags": []
   },
   "outputs": [
    {
     "name": "stderr",
     "output_type": "stream",
     "text": [
      "C:\\Users\\HNW\\anaconda3\\lib\\site-packages\\pyspark\\sql\\context.py:125: FutureWarning: Deprecated in 3.0.0. Use SparkSession.builder.getOrCreate() instead.\n",
      "  warnings.warn(\n"
     ]
    }
   ],
   "source": [
    "# 1번 유저에 대한 영화 5개 추천\n",
    "recs = get_recommendations(395, 5)"
   ]
  },
  {
   "cell_type": "code",
   "execution_count": 40,
   "id": "3843d030-c72e-448c-afe1-fe0378516211",
   "metadata": {
    "tags": []
   },
   "outputs": [
    {
     "name": "stdout",
     "output_type": "stream",
     "text": [
      "+-------+--------------------+--------------------+-------+-----------------+\n",
      "|movieId|               title|              genres|movieId|           rating|\n",
      "+-------+--------------------+--------------------+-------+-----------------+\n",
      "|   8582|Manufacturing Con...|     Documentary|War|   8582|5.821588516235352|\n",
      "|   2467|Name of the Rose,...|Crime|Drama|Myste...|   2467|5.677016258239746|\n",
      "|   6286|Man Without a Pas...|  Comedy|Crime|Drama|   6286|5.653853416442871|\n",
      "|   3067|Women on the Verg...|        Comedy|Drama|   3067|5.430441379547119|\n",
      "|  83796|Anything for Her ...|Crime|Drama|Thriller|  83796|5.424349784851074|\n",
      "+-------+--------------------+--------------------+-------+-----------------+\n",
      "\n"
     ]
    }
   ],
   "source": [
    "# 추천 결과 출력\n",
    "recs.show()"
   ]
  },
  {
   "cell_type": "code",
   "execution_count": 41,
   "id": "074db94c",
   "metadata": {
    "tags": []
   },
   "outputs": [
    {
     "data": {
      "text/html": [
       "<div>\n",
       "<style scoped>\n",
       "    .dataframe tbody tr th:only-of-type {\n",
       "        vertical-align: middle;\n",
       "    }\n",
       "\n",
       "    .dataframe tbody tr th {\n",
       "        vertical-align: top;\n",
       "    }\n",
       "\n",
       "    .dataframe thead th {\n",
       "        text-align: right;\n",
       "    }\n",
       "</style>\n",
       "<table border=\"1\" class=\"dataframe\">\n",
       "  <thead>\n",
       "    <tr style=\"text-align: right;\">\n",
       "      <th></th>\n",
       "      <th>movieId</th>\n",
       "      <th>title</th>\n",
       "      <th>genres</th>\n",
       "      <th>movieId</th>\n",
       "      <th>rating</th>\n",
       "    </tr>\n",
       "  </thead>\n",
       "  <tbody>\n",
       "    <tr>\n",
       "      <th>0</th>\n",
       "      <td>8582</td>\n",
       "      <td>Manufacturing Consent: Noam Chomsky and the Me...</td>\n",
       "      <td>Documentary|War</td>\n",
       "      <td>8582</td>\n",
       "      <td>5.821589</td>\n",
       "    </tr>\n",
       "    <tr>\n",
       "      <th>1</th>\n",
       "      <td>2467</td>\n",
       "      <td>Name of the Rose, The (Name der Rose, Der) (1986)</td>\n",
       "      <td>Crime|Drama|Mystery|Thriller</td>\n",
       "      <td>2467</td>\n",
       "      <td>5.677016</td>\n",
       "    </tr>\n",
       "    <tr>\n",
       "      <th>2</th>\n",
       "      <td>6286</td>\n",
       "      <td>Man Without a Past, The (Mies vailla menneisyy...</td>\n",
       "      <td>Comedy|Crime|Drama</td>\n",
       "      <td>6286</td>\n",
       "      <td>5.653853</td>\n",
       "    </tr>\n",
       "    <tr>\n",
       "      <th>3</th>\n",
       "      <td>3067</td>\n",
       "      <td>Women on the Verge of a Nervous Breakdown (Muj...</td>\n",
       "      <td>Comedy|Drama</td>\n",
       "      <td>3067</td>\n",
       "      <td>5.430441</td>\n",
       "    </tr>\n",
       "    <tr>\n",
       "      <th>4</th>\n",
       "      <td>83796</td>\n",
       "      <td>Anything for Her (Pour elle) (2008)</td>\n",
       "      <td>Crime|Drama|Thriller</td>\n",
       "      <td>83796</td>\n",
       "      <td>5.424350</td>\n",
       "    </tr>\n",
       "  </tbody>\n",
       "</table>\n",
       "</div>"
      ],
      "text/plain": [
       "   movieId                                              title  \\\n",
       "0     8582  Manufacturing Consent: Noam Chomsky and the Me...   \n",
       "1     2467  Name of the Rose, The (Name der Rose, Der) (1986)   \n",
       "2     6286  Man Without a Past, The (Mies vailla menneisyy...   \n",
       "3     3067  Women on the Verge of a Nervous Breakdown (Muj...   \n",
       "4    83796                Anything for Her (Pour elle) (2008)   \n",
       "\n",
       "                         genres  movieId    rating  \n",
       "0               Documentary|War     8582  5.821589  \n",
       "1  Crime|Drama|Mystery|Thriller     2467  5.677016  \n",
       "2            Comedy|Crime|Drama     6286  5.653853  \n",
       "3                  Comedy|Drama     3067  5.430441  \n",
       "4          Crime|Drama|Thriller    83796  5.424350  "
      ]
     },
     "execution_count": 41,
     "metadata": {},
     "output_type": "execute_result"
    }
   ],
   "source": [
    "# toPandas(): Pandas 데이터프레임으로 출력\n",
    "recs.toPandas()"
   ]
  }
 ],
 "metadata": {
  "kernelspec": {
   "display_name": "Python 3 (ipykernel)",
   "language": "python",
   "name": "python3"
  },
  "language_info": {
   "codemirror_mode": {
    "name": "ipython",
    "version": 3
   },
   "file_extension": ".py",
   "mimetype": "text/x-python",
   "name": "python",
   "nbconvert_exporter": "python",
   "pygments_lexer": "ipython3",
   "version": "3.9.7"
  }
 },
 "nbformat": 4,
 "nbformat_minor": 5
}

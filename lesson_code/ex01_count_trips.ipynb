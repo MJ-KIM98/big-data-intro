{
 "cells": [
  {
   "cell_type": "code",
   "execution_count": 1,
   "id": "99c5cb4b-7a01-4130-a968-90862eedbf23",
   "metadata": {},
   "outputs": [],
   "source": [
    "# Load pyspark, pandas\n",
    "from pyspark import SparkConf, SparkContext\n",
    "import pandas as pd"
   ]
  },
  {
   "cell_type": "code",
   "execution_count": 2,
   "id": "8a5b194a-1146-4359-8e42-43615d8185e9",
   "metadata": {},
   "outputs": [],
   "source": [
    "# Configure Spark\n",
    "# 객체 conf 생성\n",
    "conf = SparkConf().setMaster(\"local\").setAppName(\"uber-date-trips\")\n",
    "# setMaster(\"local\") : 컴퓨터 하나만 사용하겠다\n",
    "sc = SparkContext(conf=conf)  # conf라는 이름의 매개변수에 위의 conf 값 삽입"
   ]
  },
  {
   "cell_type": "code",
   "execution_count": 3,
   "id": "3fc30063-9c6e-474c-81cf-4e61cab098a2",
   "metadata": {},
   "outputs": [],
   "source": [
    "# Dataset sample\n",
    "filename = \"fhvhv_tripdata_2020-03_short.csv\""
   ]
  },
  {
   "cell_type": "code",
   "execution_count": 4,
   "id": "e3605e6e-2282-4d45-b53e-4cd70996a15a",
   "metadata": {},
   "outputs": [],
   "source": [
    "# Data parsing\n",
    "lines = sc.textFile(\"./data/\" + filename)   # .csv -> RDD object  RDD 형식으로 변환\n",
    "header = lines.first()                      # 첫번째 line = columns 명을 header 변수 명에 저장\n",
    "filtered_lines = lines.filter(lambda row:row != header) # all lines excepting the header\n",
    "                                            # lambda row : 모든 row가 : 이후의 조건을 만족할 때 \n",
    "                                                                    # ㄴ (!= 같지 않다)\n",
    "                                            # filter : spark의 문법, filter로 걸러 filtered_lines에 저장"
   ]
  },
  {
   "cell_type": "code",
   "execution_count": 5,
   "id": "e1beb048-516a-4b4d-9ce8-a25e7adaab33",
   "metadata": {},
   "outputs": [],
   "source": [
    "\"\"\"\n",
    "    Run the Spark job\n",
    "    - map(): apply the transformation on every element of RDD -> new RDD\n",
    "    - countByValue(): action that returns the count of each unique value\n",
    "    - x.split(\", \")[2]: extract the value of pickup_datetime from a row\n",
    "    e.g., 2020-03-01 00:03:40\n",
    "    - .split(\" \")[0]: extract the date from the pickup_datetime\n",
    "    e.g., 2020-03-01\n",
    "\"\"\"\n",
    "\n",
    "dates = filtered_lines.map(lambda x: x.split(\",\")[2].split(\" \")[0])   # 한 줄씩 읽어와서 split 2번\n",
    "result = dates.countByValue()                                         # split() : 워드 단위로 쪼갠다\n",
    "         # 변수 dates에 값의 수를 세서 result에 저장                   # split(\",\") : , 단위로 쪼갠다 \n",
    "                                                                # .split(\",\")[2] : 2번 index를 가져온다\n",
    "                                                                # .split(\" \") : 공백을 기준으로 쪼갠다\n",
    "                                                                # .split(\" \")[0] : \n",
    "                # \"countByValue()\" \n",
    "                # 이전까지는 memory에 생성 계획만 가짐\n",
    "                # python은 memory에 상주하는 시간을 줄이는 지연 실행이 특징"
   ]
  },
  {
   "cell_type": "code",
   "execution_count": 6,
   "id": "7d4254fa-8fc5-4fe0-a5b8-15cc2b2e8230",
   "metadata": {},
   "outputs": [],
   "source": [
    "# Save results as a csv file\n",
    "pd.Series(result, name=\"trips\").to_csv(\"./data/trips_date.csv\")\n",
    "                    # result 값을 pandas에 Series로 옮겨 csv 파일에 저장\n",
    "                    # 해당 셀이 실행 완료 되면 trips_date.csv 파일 생성"
   ]
  },
  {
   "cell_type": "code",
   "execution_count": 7,
   "id": "1f3dfa8a-4596-4f12-9787-ee8c687ed3e9",
   "metadata": {},
   "outputs": [
    {
     "data": {
      "image/png": "[encoded data removed]",
      "text/plain": [
       "<Figure size 432x288 with 1 Axes>"
      ]
     },
     "metadata": {
      "needs_background": "light"
     },
     "output_type": "display_data"
    }
   ],
   "source": [
    "# Visualize the results\n",
    "import matplotlib.pyplot as plt\n",
    "              # matplotlib 기본적인 시각화                      \n",
    "trips = pd.read_csv(\"./data/trips_date.csv\")  # csv 파일 읽기\n",
    "trips.plot()  # 시각화\n",
    "plt.show()    # plt = matplotlib 를 해당 셀 첫 줄에 선언 \n"
   ]
  },
  {
   "cell_type": "code",
   "execution_count": null,
   "id": "93a27c57-2204-4875-a231-d579be6b46dd",
   "metadata": {},
   "outputs": [],
   "source": [
    "# 2020년 3월 첫 주 data\n",
    "# 본격적으로 코로나 이슈 발발\n",
    "# 3월 6일에 급 하락세"
   ]
  }
 ],
 "metadata": {
  "kernelspec": {
   "display_name": "Python 3 (ipykernel)",
   "language": "python",
   "name": "python3"
  },
  "language_info": {
   "codemirror_mode": {
    "name": "ipython",
    "version": 3
   },
   "file_extension": ".py",
   "mimetype": "text/x-python",
   "name": "python",
   "nbconvert_exporter": "python",
   "pygments_lexer": "ipython3",
   "version": "3.9.7"
  }
 },
 "nbformat": 4,
 "nbformat_minor": 5
}

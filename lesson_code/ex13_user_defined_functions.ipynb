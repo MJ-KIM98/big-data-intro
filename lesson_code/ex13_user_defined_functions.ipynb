{
 "cells": [
  {
   "cell_type": "code",
   "execution_count": 3,
   "metadata": {},
   "outputs": [],
   "source": [
    "# [+] SparkSession 설정\n",
    "from pyspark.sql import SparkSession\n",
    "\n",
    "spark = SparkSession.builder.master('local').appName('udf').getOrCreate()"
   ]
  },
  {
   "cell_type": "code",
   "execution_count": 4,
   "metadata": {},
   "outputs": [],
   "source": [
    "# 샘플 데이터: 한신대 맛집 및 대표메뉴\n",
    "hsu_restaurants = [\n",
    "    ('진현가든', '삼치돌솥밥', '경기 오산시 양산로 340딩', 3.5),\n",
    "    ('대광생막창', '돼지막창', '경기 화성시 한신대길 99', 4.0),\n",
    "    ('찌개동아리', '제육전골', '경기 오산시 한신대133번길 4', 3.5),\n",
    "    ('한판삼겹', '항정살', '경기 오산시 양산로410번길 8', 3.5),\n",
    "    ('화락', '초밥', '경기 오산시 양산로 347 대성빌딩1층', 3.5),\n",
    "    ('해우리', '해물라면', '경기 오산시 한신대길 135 1층', 4.5),\n",
    "    ('행복한콩박사', '맑은순두부', '경기 오산시 양산로398번길 8-11', 3.5)\n",
    "]\n"
   ]
  },
  {
   "cell_type": "code",
   "execution_count": 5,
   "metadata": {},
   "outputs": [],
   "source": [
    "# [+] 스키마 정의\n",
    "schema = ['restaurant_name', 'speciality', 'address', 'score']"
   ]
  },
  {
   "cell_type": "code",
   "execution_count": 6,
   "metadata": {},
   "outputs": [],
   "source": [
    "# [+] 데이터프레임 생성\n",
    "df = spark.createDataFrame(data = hsu_restaurants, schema = schema)"
   ]
  },
  {
   "cell_type": "code",
   "execution_count": 7,
   "metadata": {},
   "outputs": [
    {
     "name": "stdout",
     "output_type": "stream",
     "text": [
      "+---------------+----------+------------------------------+-----+\n",
      "|restaurant_name|speciality|                       address|score|\n",
      "+---------------+----------+------------------------------+-----+\n",
      "|       진현가든|삼치돌솥밥|      경기 오산시 양산로 340딩|  3.5|\n",
      "|     대광생막창|  돼지막창|       경기 화성시 한신대길 99|  4.0|\n",
      "|     찌개동아리|  제육전골|   경기 오산시 한신대133번길 4|  3.5|\n",
      "|       한판삼겹|    항정살|   경기 오산시 양산로410번길 8|  3.5|\n",
      "|           화락|      초밥|경기 오산시 양산로 347 대성...|  3.5|\n",
      "|         해우리|  해물라면|  경기 오산시 한신대길 135 1층|  4.5|\n",
      "|   행복한콩박사|맑은순두부|경기 오산시 양산로398번길 8-11|  3.5|\n",
      "+---------------+----------+------------------------------+-----+\n",
      "\n"
     ]
    }
   ],
   "source": [
    "# [+] 데이터프레임 출력\n",
    "df.show()"
   ]
  },
  {
   "cell_type": "code",
   "execution_count": 8,
   "metadata": {},
   "outputs": [
    {
     "name": "stdout",
     "output_type": "stream",
     "text": [
      "root\n",
      " |-- restaurant_name: string (nullable = true)\n",
      " |-- speciality: string (nullable = true)\n",
      " |-- address: string (nullable = true)\n",
      " |-- score: double (nullable = true)\n",
      "\n"
     ]
    }
   ],
   "source": [
    "# [+] 데이터프레임 스키마 출력\n",
    "df.printSchema()"
   ]
  },
  {
   "cell_type": "code",
   "execution_count": 9,
   "metadata": {},
   "outputs": [],
   "source": [
    "# [+] Temporary View 생성\n",
    "df.createOrReplaceTempView('restaurants')"
   ]
  },
  {
   "cell_type": "markdown",
   "metadata": {},
   "source": [
    "### User Defined Function 생성\n",
    "1. translate(): Google Translation API를 이용하여 한글 식당 이름을 영문으로 번역하는 함수\n",
    "2. scale_score(): 5점 만점 평점을 100점 스케일로 변환하는 함수"
   ]
  },
  {
   "cell_type": "code",
   "execution_count": null,
   "metadata": {},
   "outputs": [],
   "source": []
  },
  {
   "cell_type": "code",
   "execution_count": 10,
   "metadata": {},
   "outputs": [
    {
     "name": "stdout",
     "output_type": "stream",
     "text": [
      "Collecting googletrans==4.0.0-rc1\n",
      "  Downloading googletrans-4.0.0rc1.tar.gz (20 kB)\n"
     ]
    },
    {
     "name": "stderr",
     "output_type": "stream",
     "text": [
      "ERROR: pip's dependency resolver does not currently take into account all the packages that are installed. This behaviour is the source of the following dependency conflicts.\n",
      "spyder 5.1.5 requires pyqt5<5.13, which is not installed.\n",
      "spyder 5.1.5 requires pyqtwebengine<5.13, which is not installed.\n",
      "conda-repo-cli 1.0.4 requires pathlib, which is not installed.\n",
      "anaconda-project 0.10.1 requires ruamel-yaml, which is not installed.\n",
      "jupyterlab-server 2.8.2 requires jupyter-server~=1.4, but you have jupyter-server 2.5.0 which is incompatible.\n"
     ]
    },
    {
     "name": "stdout",
     "output_type": "stream",
     "text": [
      "Collecting httpx==0.13.3\n",
      "  Downloading httpx-0.13.3-py3-none-any.whl (55 kB)\n",
      "Collecting rfc3986<2,>=1.3\n",
      "  Downloading rfc3986-1.5.0-py2.py3-none-any.whl (31 kB)\n",
      "Collecting hstspreload\n",
      "  Downloading hstspreload-2023.1.1-py3-none-any.whl (1.5 MB)\n",
      "Requirement already satisfied: sniffio in c:\\users\\hnw\\anaconda3\\lib\\site-packages (from httpx==0.13.3->googletrans==4.0.0-rc1) (1.2.0)\n",
      "Collecting idna==2.*\n",
      "  Downloading idna-2.10-py2.py3-none-any.whl (58 kB)\n",
      "Collecting chardet==3.*\n",
      "  Downloading chardet-3.0.4-py2.py3-none-any.whl (133 kB)\n",
      "Collecting httpcore==0.9.*\n",
      "  Downloading httpcore-0.9.1-py3-none-any.whl (42 kB)\n",
      "Requirement already satisfied: certifi in c:\\users\\hnw\\anaconda3\\lib\\site-packages (from httpx==0.13.3->googletrans==4.0.0-rc1) (2021.10.8)\n",
      "Collecting h11<0.10,>=0.8\n",
      "  Downloading h11-0.9.0-py2.py3-none-any.whl (53 kB)\n",
      "Collecting h2==3.*\n",
      "  Downloading h2-3.2.0-py2.py3-none-any.whl (65 kB)\n",
      "Collecting hyperframe<6,>=5.2.0\n",
      "  Downloading hyperframe-5.2.0-py2.py3-none-any.whl (12 kB)\n",
      "Collecting hpack<4,>=3.0\n",
      "  Downloading hpack-3.0.0-py2.py3-none-any.whl (38 kB)\n",
      "Building wheels for collected packages: googletrans\n",
      "  Building wheel for googletrans (setup.py): started\n",
      "  Building wheel for googletrans (setup.py): finished with status 'done'\n",
      "  Created wheel for googletrans: filename=googletrans-4.0.0rc1-py3-none-any.whl size=17415 sha256=9ea3d975ef96bdeccbf7ae3fe7d5418135ecb9d1cc37c0e27c7732474fe8d235\n",
      "  Stored in directory: c:\\users\\hnw\\appdata\\local\\pip\\cache\\wheels\\60\\b3\\27\\d8aff3e2d5c2d0d97a117cdf0d5f13cd121e2c2b5fb49b55a0\n",
      "Successfully built googletrans\n",
      "Installing collected packages: hyperframe, hpack, h2, h11, rfc3986, idna, httpcore, hstspreload, chardet, httpx, googletrans\n",
      "  Attempting uninstall: idna\n",
      "    Found existing installation: idna 3.2\n",
      "    Uninstalling idna-3.2:\n",
      "      Successfully uninstalled idna-3.2\n",
      "  Attempting uninstall: chardet\n",
      "    Found existing installation: chardet 4.0.0\n",
      "    Uninstalling chardet-4.0.0:\n",
      "      Successfully uninstalled chardet-4.0.0\n",
      "Successfully installed chardet-3.0.4 googletrans-4.0.0rc1 h11-0.9.0 h2-3.2.0 hpack-3.0.0 hstspreload-2023.1.1 httpcore-0.9.1 httpx-0.13.3 hyperframe-5.2.0 idna-2.10 rfc3986-1.5.0\n"
     ]
    },
    {
     "name": "stderr",
     "output_type": "stream",
     "text": [
      "cookiecutter 1.7.2 requires Jinja2<3.0.0, but you have jinja2 3.1.2 which is incompatible.\n",
      "cookiecutter 1.7.2 requires MarkupSafe<2.0.0, but you have markupsafe 2.1.2 which is incompatible.\n"
     ]
    }
   ],
   "source": [
    "# Google translation 라이브러리 설치\n",
    "!pip install googletrans==4.0.0-rc1"
   ]
  },
  {
   "cell_type": "code",
   "execution_count": 13,
   "metadata": {},
   "outputs": [],
   "source": [
    "# Google translator 임포트\n",
    "from googletrans import Translator\n",
    "\n",
    "translator = Translator()"
   ]
  },
  {
   "cell_type": "code",
   "execution_count": 14,
   "metadata": {},
   "outputs": [
    {
     "name": "stdout",
     "output_type": "stream",
     "text": [
      "Translated(src=ko, dest=en, text=Stew, pronunciation=None, extra_data=\"{'confiden...\")\n"
     ]
    }
   ],
   "source": [
    "# 번역 테스트\n",
    "                                   # source  destination\n",
    "result = translator.translate(\"찌개 동아리\", src='ko', dest='en')\n",
    "print(result)"
   ]
  },
  {
   "cell_type": "code",
   "execution_count": 23,
   "metadata": {},
   "outputs": [
    {
     "data": {
      "text/plain": [
       "'Stew'"
      ]
     },
     "execution_count": 23,
     "metadata": {},
     "output_type": "execute_result"
    }
   ],
   "source": [
    "# [+] 번역 결과 출력\n",
    "result.text"
   ]
  },
  {
   "cell_type": "code",
   "execution_count": 16,
   "metadata": {},
   "outputs": [
    {
     "data": {
      "text/plain": [
       "{'confidence': None,\n",
       " 'parts': [<googletrans.models.TranslatedPart at 0x205f8f14970>],\n",
       " 'origin_pronunciation': 'jjigae dong-ali',\n",
       " 'parsed': [['jjigae dong-ali',\n",
       "   None,\n",
       "   None,\n",
       "   [[[0, [[[None, 6]], [True]]]], 6],\n",
       "   [['찌개 동아리', None, None, 6]],\n",
       "   None,\n",
       "   ['찌개 동아리', 'ko', 'en', True]],\n",
       "  [[[None,\n",
       "     None,\n",
       "     None,\n",
       "     None,\n",
       "     None,\n",
       "     [['Stew',\n",
       "       None,\n",
       "       None,\n",
       "       None,\n",
       "       [['Stew', [5], []], ['Stew club', [11], []]]]]]],\n",
       "   'en',\n",
       "   1,\n",
       "   'ko',\n",
       "   ['찌개 동아리', 'ko', 'en', True]],\n",
       "  'ko']}"
      ]
     },
     "execution_count": 16,
     "metadata": {},
     "output_type": "execute_result"
    }
   ],
   "source": [
    "# [+] extra_data 출력\n",
    "result.extra_data"
   ]
  },
  {
   "cell_type": "code",
   "execution_count": 17,
   "metadata": {},
   "outputs": [
    {
     "data": {
      "text/plain": [
       "'jjigae dong-ali'"
      ]
     },
     "execution_count": 17,
     "metadata": {},
     "output_type": "execute_result"
    }
   ],
   "source": [
    "# 영어 발음(pronunciation) 출력\n",
    "result.extra_data.get('origin_pronunciation')"
   ]
  },
  {
   "cell_type": "code",
   "execution_count": 36,
   "metadata": {},
   "outputs": [
    {
     "data": {
      "text/plain": [
       "<function __main__.translate(text)>"
      ]
     },
     "execution_count": 36,
     "metadata": {},
     "output_type": "execute_result"
    }
   ],
   "source": [
    "# UDF 1: 한글->영문 번역 함수\n",
    "    # 함수 생성 필요\n",
    "def translate(text):\n",
    "    from googletrans import Translator\n",
    "    translator = Translator()\n",
    "    result = translator.translate(text, src='ko', dest='en')\n",
    "    return result.extra_data.get('origin_pronunciation')\n",
    "\n",
    "# UDF 등록\n",
    "spark.udf.register('translate', translate)"
   ]
  },
  {
   "cell_type": "code",
   "execution_count": 26,
   "metadata": {},
   "outputs": [
    {
     "name": "stdout",
     "output_type": "stream",
     "text": [
      "+---------------+----------+------------------------------+-----+\n",
      "|restaurant_name|speciality|                       address|score|\n",
      "+---------------+----------+------------------------------+-----+\n",
      "|       진현가든|삼치돌솥밥|      경기 오산시 양산로 340딩|  3.5|\n",
      "|     대광생막창|  돼지막창|       경기 화성시 한신대길 99|  4.0|\n",
      "|     찌개동아리|  제육전골|   경기 오산시 한신대133번길 4|  3.5|\n",
      "|       한판삼겹|    항정살|   경기 오산시 양산로410번길 8|  3.5|\n",
      "|           화락|      초밥|경기 오산시 양산로 347 대성...|  3.5|\n",
      "|         해우리|  해물라면|  경기 오산시 한신대길 135 1층|  4.5|\n",
      "|   행복한콩박사|맑은순두부|경기 오산시 양산로398번길 8-11|  3.5|\n",
      "+---------------+----------+------------------------------+-----+\n",
      "\n"
     ]
    }
   ],
   "source": [
    "df.show()"
   ]
  },
  {
   "cell_type": "code",
   "execution_count": 37,
   "metadata": {},
   "outputs": [
    {
     "name": "stdout",
     "output_type": "stream",
     "text": [
      "+---------------+--------------------+\n",
      "|restaurant_name|  restaurant_name_en|\n",
      "+---------------+--------------------+\n",
      "|       진현가든|      jinhyeongadeun|\n",
      "|     대광생막창|daegwangsaengmagc...|\n",
      "|     찌개동아리|      jjigaedong-ali|\n",
      "|       한판삼겹|      hanpansamgyeob|\n",
      "|           화락|              hwalag|\n",
      "|         해우리|              haeuli|\n",
      "|   행복한콩박사|haengboghankongbagsa|\n",
      "+---------------+--------------------+\n",
      "\n"
     ]
    }
   ],
   "source": [
    "# SQL문 처리\n",
    "spark.sql(\"SELECT restaurant_name, translate(restaurant_name) AS restaurant_name_en \\\n",
    "            FROM restaurants\").show()"
   ]
  },
  {
   "cell_type": "code",
   "execution_count": 28,
   "metadata": {},
   "outputs": [],
   "source": [
    "# Annotation 방식으로 UDF 등록하기\n",
    "from pyspark.sql.functions import udf"
   ]
  },
  {
   "cell_type": "code",
   "execution_count": 31,
   "metadata": {},
   "outputs": [],
   "source": [
    "# UDF 2: score -> 100점 스케일 변환 함수\n",
    "# @udf...... udf로 바로 등록\n",
    "    # @udf('int')\n",
    "    # def sclae_score(score):\n",
    "    #     return score * 20\n",
    "\n",
    "def scale_score(score):\n",
    "    return score * 20"
   ]
  },
  {
   "cell_type": "code",
   "execution_count": 32,
   "metadata": {
    "tags": []
   },
   "outputs": [
    {
     "data": {
      "text/plain": [
       "<function __main__.scale_score(score)>"
      ]
     },
     "execution_count": 32,
     "metadata": {},
     "output_type": "execute_result"
    }
   ],
   "source": [
    "# udf 등록\n",
    "spark.udf.register(\"scale_score\", scale_score)"
   ]
  },
  {
   "cell_type": "code",
   "execution_count": 38,
   "metadata": {},
   "outputs": [
    {
     "name": "stdout",
     "output_type": "stream",
     "text": [
      "+---------------+--------------------+----------+------------------------------+------------+\n",
      "|restaurant_name|  restaurant_name_en|speciality|                       address|score_scaled|\n",
      "+---------------+--------------------+----------+------------------------------+------------+\n",
      "|       진현가든|      jinhyeongadeun|삼치돌솥밥|      경기 오산시 양산로 340딩|        70.0|\n",
      "|     대광생막창|daegwangsaengmagc...|  돼지막창|       경기 화성시 한신대길 99|        80.0|\n",
      "|     찌개동아리|      jjigaedong-ali|  제육전골|   경기 오산시 한신대133번길 4|        70.0|\n",
      "|       한판삼겹|      hanpansamgyeob|    항정살|   경기 오산시 양산로410번길 8|        70.0|\n",
      "|           화락|              hwalag|      초밥|경기 오산시 양산로 347 대성...|        70.0|\n",
      "|         해우리|              haeuli|  해물라면|  경기 오산시 한신대길 135 1층|        90.0|\n",
      "|   행복한콩박사|haengboghankongbagsa|맑은순두부|경기 오산시 양산로398번길 8-11|        70.0|\n",
      "+---------------+--------------------+----------+------------------------------+------------+\n",
      "\n"
     ]
    }
   ],
   "source": [
    "# SQL문처리\n",
    "spark.sql(\"SELECT restaurant_name, translate(restaurant_name) AS restaurant_name_en, \\\n",
    "            speciality, address, scale_score(score) AS score_scaled \\\n",
    "            FROM restaurants\").show()"
   ]
  },
  {
   "cell_type": "code",
   "execution_count": null,
   "metadata": {},
   "outputs": [],
   "source": []
  }
 ],
 "metadata": {
  "kernelspec": {
   "display_name": "Python 3 (ipykernel)",
   "language": "python",
   "name": "python3"
  },
  "language_info": {
   "codemirror_mode": {
    "name": "ipython",
    "version": 3
   },
   "file_extension": ".py",
   "mimetype": "text/x-python",
   "name": "python",
   "nbconvert_exporter": "python",
   "pygments_lexer": "ipython3",
   "version": "3.9.7"
  }
 },
 "nbformat": 4,
 "nbformat_minor": 4
}
